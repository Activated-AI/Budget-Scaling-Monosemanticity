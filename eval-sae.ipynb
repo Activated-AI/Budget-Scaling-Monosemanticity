{
 "cells": [
  {
   "cell_type": "code",
   "execution_count": 28,
   "metadata": {},
   "outputs": [],
   "source": [
    "# # load dataset\n",
    "\n",
    "# from datasets import load_dataset\n",
    "# from tokenizers import ByteLevelBPETokenizer\n",
    "\n",
    "# tokenizer = ByteLevelBPETokenizer()\n",
    "# dataset = load_dataset(\"roneneldan/TinyStories\")\n",
    "\n",
    "# # Specify the split you want to save (e.g., \"train\", \"validation\", \"test\")\n",
    "# split = \"train\"\n",
    "\n",
    "# # Get the desired split from the dataset\n",
    "# subset = dataset[split]\n",
    "\n",
    "# # Save the subset to a text file\n",
    "# subset.to_csv(\"tinystories-train.txt\", sep=\"\\t\", index=False)\n"
   ]
  },
  {
   "cell_type": "code",
   "execution_count": 29,
   "metadata": {},
   "outputs": [],
   "source": [
    "#----- imports --------\n",
    "\n",
    "import tqdm\n",
    "import torch\n",
    "from torch import nn\n",
    "import wandb\n",
    "import os\n",
    "import tokenizers\n",
    "from matplotlib import pyplot as plt\n",
    "import numpy as np\n",
    "import json\n",
    "\n",
    "\n",
    "device= 'cuda' if torch.cuda.is_available() else 'cpu'\n",
    "torch.set_default_device(device)\n",
    "assert device == 'cuda', \"This notebook is not optimized for CPU\"\n",
    "\n",
    "config = {\n",
    "    \"learning_rate\": 1e-3,\n",
    "    \"sae_learning_rate\": 5e-5,\n",
    "    \"model_embedding_layer\": 6,\n",
    "    \"eval_interval\": 500,\n",
    "    \"max_iters\": 60000, \n",
    "    \"H\": 32, # hidden dimension size\n",
    "    \"B\": 8,\n",
    "    \"T\": 256,\n",
    "    \"C\": 256,\n",
    "    \"feedforward_factor\": 3,\n",
    "    \"n_heads\": 8,\n",
    "    \"n_layers\": 12,\n",
    "    \"tokenizer_vocab_size\": 2**13,\n",
    "    \"git_hash\": os.popen(\"git rev-parse HEAD\").read().strip()\n",
    "}\n",
    "\n",
    "# initial\n",
    "for k,v in config.items():\n",
    "    locals ()[k] = v\n",
    "\n",
    "\n",
    "#wandb.init(\n",
    "#    project = \"tinystories\",\n",
    "#    config = config,\n",
    "#)"
   ]
  },
  {
   "cell_type": "code",
   "execution_count": 30,
   "metadata": {},
   "outputs": [],
   "source": [
    "\n",
    "with open('tinystories-train.txt', 'r', encoding='utf-8') as f:\n",
    "    text = f.read()"
   ]
  },
  {
   "cell_type": "code",
   "execution_count": 31,
   "metadata": {},
   "outputs": [
    {
     "name": "stdout",
     "output_type": "stream",
     "text": [
      "length of dataset in characters:  1916206969\n"
     ]
    }
   ],
   "source": [
    "print(\"length of dataset in characters: \", len(text))"
   ]
  },
  {
   "cell_type": "code",
   "execution_count": 32,
   "metadata": {},
   "outputs": [],
   "source": [
    "tokenizer = tokenizers.ByteLevelBPETokenizer(\n",
    "    \"./tiny-stories-bpe-vocab.json\", \n",
    "    \"./tiny-stories-bpe-merges.txt\"\n",
    ")\n"
   ]
  },
  {
   "cell_type": "code",
   "execution_count": 33,
   "metadata": {},
   "outputs": [
    {
     "name": "stdout",
     "output_type": "stream",
     "text": [
      "[6132]\n",
      "hello\n",
      "vocab size:  8192\n"
     ]
    }
   ],
   "source": [
    "\n",
    "def encode(text):\n",
    "    return tokenizer.encode(text).ids\n",
    "def decode(encoded_text):\n",
    "    return tokenizer.decode(encoded_text)\n",
    "\n",
    "from tqdm import tqdm\n",
    "\n",
    "def batch_encode(text, batch_size):\n",
    "    tokens = []\n",
    "    for i in tqdm(range(0, len(text), batch_size)):\n",
    "        tokens.extend(encode(text[i:i+batch_size]))\n",
    "    return tokens\n",
    "\n",
    "\n",
    "hello_encoded = encode(\"hello\")\n",
    "print(hello_encoded)\n",
    "print(decode(hello_encoded))\n",
    "vocab_size = tokenizer.get_vocab_size()\n",
    "print(\"vocab size: \", vocab_size)"
   ]
  },
  {
   "cell_type": "code",
   "execution_count": 34,
   "metadata": {},
   "outputs": [
    {
     "name": "stdout",
     "output_type": "stream",
     "text": [
      "length of dataset in characters:  10000\n",
      "length of dataset in tokens:  2457\n",
      "characters per token:  4.07000407000407\n"
     ]
    }
   ],
   "source": [
    "print(\"length of dataset in characters: \", len(text[:10000]))\n",
    "print(\"length of dataset in tokens: \", len(encode(text[:10000])))\n",
    "chars_per_token = len(text[:10000]) / len(encode(text[:10000]))\n",
    "print(\"characters per token: \", chars_per_token)"
   ]
  },
  {
   "cell_type": "code",
   "execution_count": 35,
   "metadata": {},
   "outputs": [],
   "source": [
    "# load data from tiny-stories-train.pt\n",
    "data = torch.load('tiny-stories-train.pt', map_location='cuda')[:3000]\n"
   ]
  },
  {
   "cell_type": "code",
   "execution_count": 36,
   "metadata": {},
   "outputs": [],
   "source": [
    "n = int(0.9*len(data))\n",
    "\n",
    "train_data = data[:n]\n",
    "val_data = data[n:]"
   ]
  },
  {
   "cell_type": "code",
   "execution_count": 37,
   "metadata": {},
   "outputs": [],
   "source": [
    "# torch.manual_seed(1337)\n",
    "\n",
    "def get_batch(split):\n",
    "    data = train_data if split == 'train' else val_data\n",
    "    ix = torch.randint(0, data.size(0) - T, (B,)) # 4 random locations we can sample from\n",
    "    x = torch.stack([data[i:i+T] for i in ix]) # random sequences\n",
    "    y = torch.stack([data[i+1:i+T+1] for i in ix]) # next character for each random sequence\n",
    "\n",
    "    return x, y\n",
    "\n",
    "xb, yb = get_batch('train')\n",
    "\n",
    "for b in range(B):\n",
    "    for t in range(T): # for each of the characters in the sample\n",
    "        context = xb[b, :t+1]\n",
    "        target = yb[b, t]\n"
   ]
  },
  {
   "cell_type": "code",
   "execution_count": 38,
   "metadata": {},
   "outputs": [],
   "source": [
    "\n",
    "import torch\n",
    "import torch.nn as nn\n",
    "from torch.nn import functional as F\n",
    "# torch.manual_seed(1337)\n",
    "\n",
    "\n",
    "class Head(nn.Module):\n",
    "    '''One Head of self-attention'''\n",
    "    def __init__(self, H):\n",
    "        super().__init__()\n",
    "        self.query = nn.Linear(C, H, bias=False)\n",
    "        self.key = nn.Linear(C, H, bias=False)\n",
    "        self.value = nn.Linear(C, H, bias=False)\n",
    "        # self.output = nn.Linear(H, C, bias=False) # output matrix\n",
    "        self.register_buffer('tril', torch.tril(torch.ones(T, T)))\n",
    "\n",
    "    def forward(self, x):\n",
    "        # Query and Key matrices for the attention mechanism\n",
    "        # x: 8 tokens\n",
    "        # Q: 16 tall (arbitrary), 32 long channels\n",
    "        # K: 16 tall (arbitrary), 32 long channels\n",
    "\n",
    "        query_vectors = self.query(x)\n",
    "        key_vectors = self.key(x)\n",
    "\n",
    "\n",
    "        # Attention masking(so we can't look into the past):\n",
    "\n",
    "        tril = self.tril\n",
    "        wei = torch.zeros(T, T) \n",
    "        wei = wei.masked_fill(tril == 0, float('-inf')) # set the upper triangular to -inf\n",
    "        # xbow = wei @ x # apply the mask to the input, bag of words because simple avg.\n",
    "\n",
    "        # multiply the two to get the attention weights\n",
    "        attention_pattern = query_vectors @ key_vectors.transpose(-2, -1) # T, T\n",
    "        attention_pattern = attention_pattern / (H ** 0.5) # scale the attention pattern for numerical stability\n",
    "        attention_weights = F.softmax(attention_pattern + wei, dim=-1) # T, T (the row dimension is the query)\n",
    "\n",
    "        value_vectors = self.value(x) # the direction we should go in the embedding space for each token (ie more blue) T, H\n",
    "\n",
    "        # apply the attention weights to the value vectors\n",
    "        context = attention_weights @ value_vectors # T, H\n",
    "\n",
    "        # project back into original space from value space\n",
    "        # return self.output(context)\n",
    "        return context\n",
    "\n",
    "x = torch.randn(B,T,C)\n",
    "head = Head(H)\n",
    "# head(x)\n"
   ]
  },
  {
   "cell_type": "code",
   "execution_count": 39,
   "metadata": {},
   "outputs": [],
   "source": [
    "class MultiHeadAttention(nn.Module):\n",
    "    '''Multiple heads of self-attention'''\n",
    "    def __init__(self, H, C, n_heads): # H is head embedding space size, n_heads is number of heads\n",
    "        super().__init__()\n",
    "        self.heads = nn.ModuleList([Head(H) for _ in range(n_heads)])\n",
    "        self.combine_heads = nn.Linear(H*n_heads, C)\n",
    "\n",
    "\n",
    "    def forward(self,x):\n",
    "        x = torch.cat([head(x) for head in self.heads], dim=-1)\n",
    "        x = self.combine_heads(x)  # T, C\n",
    "        return x"
   ]
  },
  {
   "cell_type": "code",
   "execution_count": 40,
   "metadata": {},
   "outputs": [
    {
     "data": {
      "text/plain": [
       "torch.Size([8, 256, 32])"
      ]
     },
     "execution_count": 40,
     "metadata": {},
     "output_type": "execute_result"
    }
   ],
   "source": [
    "head = MultiHeadAttention(H, C, n_heads)\n",
    "head.heads[0].forward(x).shape\n"
   ]
  },
  {
   "cell_type": "code",
   "execution_count": 41,
   "metadata": {},
   "outputs": [],
   "source": [
    "class FeedForward(nn.Module):\n",
    "    '''Feed-forward neural network'''\n",
    "    def __init__(self, C):\n",
    "        super().__init__()\n",
    "        self.net = nn.Sequential(\n",
    "            nn.Linear(C, C * feedforward_factor),\n",
    "            nn.ReLU(),\n",
    "            nn.Linear(C * feedforward_factor, C),\n",
    "        )\n",
    "\n",
    "    def forward(self, x):\n",
    "        return self.net(x)"
   ]
  },
  {
   "cell_type": "code",
   "execution_count": 42,
   "metadata": {},
   "outputs": [],
   "source": [
    "class LayerNorm(nn.Module):\n",
    "    '''Layer normalization'''\n",
    "    def __init__(self, C, use_affine=True):\n",
    "        super().__init__()\n",
    "        self.gamma = nn.Parameter(torch.ones(C)) if use_affine else None\n",
    "        self.beta = nn.Parameter(torch.zeros(C)) if use_affine else None\n",
    "\n",
    "    def forward(self, x):\n",
    "        mean = x.mean(-1, keepdim=True)\n",
    "        std = x.std(-1, keepdim=True)\n",
    "        if self.gamma is not None and self.beta is not None:\n",
    "            return self.gamma * (x - mean) / (std + 1e-6) + self.beta\n",
    "        else:\n",
    "            return (x - mean) / (std + 1e-6)"
   ]
  },
  {
   "cell_type": "code",
   "execution_count": 43,
   "metadata": {},
   "outputs": [],
   "source": [
    "class Block(nn.Module):\n",
    "    '''Transformer block'''\n",
    "    def __init__(self, H, C, n_heads):\n",
    "        super().__init__()\n",
    "        self.attention = MultiHeadAttention(H, C, n_heads)\n",
    "        self.ff = FeedForward(C)\n",
    "        self.norm1 = LayerNorm(C, use_affine=True)\n",
    "        self.norm2 = LayerNorm(C, use_affine=True)\n",
    "\n",
    "    def forward(self, x):\n",
    "        x = x + self.attention(self.norm1(x))\n",
    "        x = x + self.ff(self.norm2(x))\n",
    "        return x"
   ]
  },
  {
   "cell_type": "code",
   "execution_count": 44,
   "metadata": {},
   "outputs": [
    {
     "name": "stdout",
     "output_type": "stream",
     "text": [
      "torch.Size([8, 256, 8192])\n",
      "tensor(9.5500, device='cuda:0', grad_fn=<NllLossBackward0>)\n",
      "tensor(0.0911, device='cuda:0', grad_fn=<DivBackward0>)\n"
     ]
    },
    {
     "data": {
      "text/plain": [
       "(tensor([[[ 1.8658,  0.7927, -0.4301,  ..., -0.0697, -0.2076,  0.6548],\n",
       "          [ 1.9524,  1.1833, -0.3304,  ..., -0.6776, -0.1493,  0.3072],\n",
       "          [ 0.7096,  1.6100,  0.1538,  ...,  0.7015,  0.0691,  0.6479],\n",
       "          ...,\n",
       "          [ 0.4213,  0.5035,  0.3246,  ...,  0.6762,  1.9587,  0.4810],\n",
       "          [ 1.6118,  1.5630, -1.0997,  ...,  0.2505,  1.0667,  0.9430],\n",
       "          [ 1.2767,  0.7274, -1.3932,  ...,  2.1803,  0.4763,  1.2132]]],\n",
       "        device='cuda:0', grad_fn=<ViewBackward0>),\n",
       " None,\n",
       " tensor(0.0750, device='cuda:0', grad_fn=<DivBackward0>))"
      ]
     },
     "execution_count": 44,
     "metadata": {},
     "output_type": "execute_result"
    }
   ],
   "source": [
    "class GPT(nn.Module):\n",
    "\n",
    "    def __init__(self, n_layers):\n",
    "        super().__init__()\n",
    "        self.token_embedding_table = nn.Embedding(vocab_size, C) \n",
    "        self.position_embedding_table = nn.Embedding(T, C)\n",
    "        self.lm_head = nn.Linear(C, vocab_size)\n",
    "        self.layers = nn.ModuleList([Block(H, C, n_heads) for _ in range(n_layers)])\n",
    "    \n",
    "    def forward(self, idx, targets=None, return_residuals=None):\n",
    "        B, T = idx.shape\n",
    "        token_emb = self.token_embedding_table(idx) # batch_dim, sequence_dim, embedding_dim\n",
    "        pos_emb = self.position_embedding_table(torch.arange(T))\n",
    "        x = token_emb + pos_emb # token identities and positions contained\n",
    "\n",
    "        if return_residuals == \"first_embedding\":\n",
    "            return x\n",
    "\n",
    "        def excess_kurtosis(emb):\n",
    "            mean = torch.mean(emb, dim=-1, keepdim=True) # BxTx1\n",
    "            std = torch.std(emb, dim=-1, keepdim=True) # BxTx1\n",
    "\n",
    "            centralized = emb - mean #BxTxC\n",
    "            fourth_moment = torch.mean(centralized**4, dim=-1, keepdim=True) # BxTx1\n",
    "            kurtosis = torch.squeeze(fourth_moment / std**4, dim=-1) # BxT\n",
    "            # view as a 1d vector\n",
    "            kurtosis = kurtosis.view(-1) - 3\n",
    "            # make each one min 0\n",
    "            kurtosis = torch.maximum(kurtosis, torch.tensor(0.0))\n",
    "            # sum over the vector\n",
    "            kurtosis = torch.sum(kurtosis)\n",
    "            return kurtosis\n",
    "\n",
    "\n",
    "        kurtosis_sum = torch.tensor(0.0)\n",
    "        for i, layer in enumerate(self.layers):\n",
    "            x = layer(x)\n",
    "            kurtosis_sum += excess_kurtosis(x)\n",
    "            if return_residuals is not None and i == return_residuals:\n",
    "                return x\n",
    "        \n",
    "        kurtosis_avg = kurtosis_sum / (len(self.layers) * T * B)\n",
    "\n",
    "        logits = self.lm_head(x) # batch_dim, sequence_dim, vocab_size\n",
    "\n",
    "        batch_dim, sequence_dim, embedding_dim = logits.size()\n",
    "\n",
    "        # loss = F.cross_entropy(logits, targets) this won't work because we need 1d logits and 1d targets\n",
    "        # one-hot-vectors are a line in the x-dimension, so the shape of shape of the logits should be (-1, vocab_size).\n",
    "\n",
    "        if targets is None:\n",
    "            return logits, None, kurtosis_avg\n",
    "        else:\n",
    "            # a list of all the predictions, reguardles of batch.\n",
    "            # xdim: probabilities of each character in the vocab (embedding_dim=vocab_size)\n",
    "            # ydim: all predictions for all batches flattened (batch_dim*sequence_dim)\n",
    "            logits_loss_view = logits.view(-1, vocab_size) \n",
    "            # targets loss view\n",
    "            # xdim: all targets for all batches flattened (batch_dim*sequence_dim)\n",
    "            # so this would be like, [1,4,5,1,2,3, ...]\n",
    "            # where each number is the correct next index of the one hot vector\n",
    "            targets_loss_view = targets.view(-1)\n",
    "            loss = F.cross_entropy(logits_loss_view, targets_loss_view)\n",
    "            return logits, loss, kurtosis_avg\n",
    "\n",
    "    def generate(self, idx, max_new_tokens, temperature=0.5):\n",
    "        for _ in range(max_new_tokens):\n",
    "            logits, loss = self(idx[:,-T:])\n",
    "            # get the predictions of the last token\n",
    "            last_token_logits = logits[:, -1, :] # all batches, last token, all probabilities\n",
    "            # apply temperature\n",
    "            last_token_logits = last_token_logits / temperature\n",
    "            # softmax to get probabilities\n",
    "            probabilities = F.softmax(last_token_logits, dim=-1)\n",
    "            # sample from the probabilities\n",
    "            next_token = torch.multinomial(probabilities, num_samples=1)\n",
    "            # add the new token to the idx tensor\n",
    "            idx = torch.cat((idx, next_token), dim=1)\n",
    "        return idx\n",
    "    def prompt_model(self, prompt, max_new_tokens, temperature=0.5):\n",
    "        autoregressive_seq = encode(prompt)\n",
    "        for _ in range(max_new_tokens):\n",
    "            prediction_index = len(autoregressive_seq)-1\n",
    "\n",
    "            model_input = torch.tensor(autoregressive_seq)\n",
    "            \n",
    "            while model_input.shape[0] < T:\n",
    "                pad_token = torch.tensor(encode(\"\\n\"))\n",
    "                model_input = torch.cat((model_input, pad_token), dim=0)\n",
    "\n",
    "            model_input\n",
    "            model_input = model_input.unsqueeze(0)\n",
    "\n",
    "            logits, loss, kurtosis_avg = model(model_input)\n",
    "            prediction_token = logits[:, prediction_index, :] / temperature\n",
    "            probabilities = F.softmax(prediction_token, dim=-1)\n",
    "            next_token = torch.multinomial(probabilities, num_samples=1)\n",
    "            next_token = next_token.item()\n",
    "\n",
    "            autoregressive_seq.append(next_token)\n",
    "        # get the autoregressive sequence\n",
    "        return decode(autoregressive_seq)\n",
    "    def get_embedding(self, prompt, override_model_embedding_layer=None):\n",
    "        if override_model_embedding_layer is None:\n",
    "            selected_model_embedding_layer = model_embedding_layer\n",
    "        else:\n",
    "            selected_model_embedding_layer = override_model_embedding_layer\n",
    "        sequence = encode(prompt)\n",
    "        model_input = torch.tensor(sequence)\n",
    "        sequence_index = len(sequence) - 1\n",
    "        while model_input.shape[0] < T:\n",
    "            pad_token = torch.tensor(encode(\"\\n\"))\n",
    "            model_input = torch.cat((model_input, pad_token), dim=0)\n",
    "        model_input = model_input.unsqueeze(0)\n",
    "        embedding = self.forward(model_input, return_residuals=selected_model_embedding_layer)\n",
    "        # remove the batch dimension\n",
    "        embedding = embedding.squeeze(0)[sequence_index]\n",
    "        return embedding\n",
    "\n",
    "\n",
    "    \n",
    "\n",
    "model = GPT(n_layers)\n",
    "logits, loss, kurtosis_avg = model(xb, yb)\n",
    "print(logits.shape)\n",
    "print(loss)\n",
    "print(kurtosis_avg)\n",
    "\n",
    "\n",
    "\n",
    "\n",
    "test_idx = torch.zeros(1, T).long()\n",
    "model.forward(idx=test_idx)\n",
    "# decode(model.generate(idx=test_idx, max_new_tokens=100)[0].tolist())"
   ]
  },
  {
   "cell_type": "code",
   "execution_count": 45,
   "metadata": {},
   "outputs": [],
   "source": [
    "# load the model\n",
    "model.load_state_dict(torch.load('tiny-stories-model-v2-kurtosis-penalty.pt'))\n",
    "model.eval()\n",
    "for param in model.parameters():\n",
    "    param.requires_grad = False\n"
   ]
  },
  {
   "cell_type": "code",
   "execution_count": 46,
   "metadata": {},
   "outputs": [
    {
     "name": "stdout",
     "output_type": "stream",
     "text": [
      "Once upon a time Robotido was sad. He was so lonely and sad that he couldn't find his friends. He wanted to go back to the park and play with his friends.\n",
      "\n",
      "Robot was so happy he could barely contain himself. He decided to go to the park and play. He played with his friends and they had lots of fun.\n",
      "\n",
      "Robot was so happy that he ran around the park. He never stopped playing. He had many friends who liked to play with him.\n",
      "\n",
      "Robotion was so happy that he had found his friends. He was so glad that he found his friends. He knew that they would always be there to play together.\"\n",
      "\"Once upon a time there was a little girl named Lucy. She was three years old and she loved to play. Today, she was feeling very sleepy. She wanted to take a nap, so she decided to lie down in her bed.\n",
      "\n",
      "When she woke up, she saw her mom had been cooking dinner for her\n"
     ]
    }
   ],
   "source": [
    "print(model.prompt_model(\"Once upon a time Robotido was sad.\", 200, 0.5))"
   ]
  },
  {
   "cell_type": "markdown",
   "metadata": {},
   "source": [
    "Lilly and Ben did not see the big dog behind them. The dog was grumpy and chased them. Ben and Lily tried to run away, but the dog was faster. The dog bit Ben's leg and Ben cry. Lila felt a sharp pain and drops many blood. She was scared and hurt.\n",
    "\n",
    "Lila and Ben's mom and dad heard the noise and come outside. They see the dog and the twins. They are sorry and worried. They call the police. The police come and take the dog away. They put the dog with no owner. Lila and Ben are happy and grateful. They hug their mom and dad.\n",
    "\n",
    "The dog is not a toy. He is a good dog. He is strong and brave. He protects Lila and Ben and plays with them again. The dog looks at them, curious and friendly. He wants to be their friend. He licks their faces and makes them laugh. Lila and Ben smile and laugh. They pick up their toy animals and play with them. They are not grumpy anymore. They"
   ]
  },
  {
   "cell_type": "markdown",
   "metadata": {},
   "source": [
    "# Sparse AutoEncoder"
   ]
  },
  {
   "cell_type": "code",
   "execution_count": 47,
   "metadata": {},
   "outputs": [],
   "source": [
    "class SparseAutoEncoder(nn.Module):\n",
    "    def __init__(self, activations_dim, sparse_dim):\n",
    "        super().__init__()\n",
    "        self.activations_dim = activations_dim\n",
    "        encoder_weight = torch.randn(activations_dim, sparse_dim)\n",
    "        decoder_weight = torch.randn(sparse_dim, activations_dim)\n",
    "        self.encoder_bias = nn.Parameter(torch.zeros(sparse_dim))\n",
    "        self.decoder_bias = nn.Parameter(torch.zeros(activations_dim))\n",
    "        self.sparse_dim = sparse_dim\n",
    "        self.sparsity_penalty = 30\n",
    "\n",
    "        # set the encoder_weight to have the activations dim to be normalized to have l2 norm randomly between 0.05 and 1\n",
    "        direction_lengths = torch.rand(sparse_dim) * 0.95 + 0.05\n",
    "        # normalize the encoder_weight along columns (dim -2) to have l2 norm of 1\n",
    "        encoder_weight = F.normalize(encoder_weight, p=2, dim=0)\n",
    "        # multiply the column norms by the direction_lengths\n",
    "        encoder_weight = encoder_weight * direction_lengths\n",
    "        # make the decoder weight be the transpose of the encoder_weight\n",
    "        decoder_weight = torch.transpose(encoder_weight, 0, 1)\n",
    "\n",
    "        self.encoder_weight = nn.Parameter(encoder_weight)\n",
    "        self.decoder_weight = nn.Parameter(decoder_weight)\n",
    "\n",
    "\n",
    "\n",
    "    def forward(self, x):\n",
    "        # preprocessing normalization\n",
    "        # average_l2 norm of channel dimension:\n",
    "        # now on average any embedding has euclidian length 1\n",
    "\n",
    "        encoded = F.relu(x @ self.encoder_weight + self.encoder_bias) # all act. are positive\n",
    "        decoded = encoded @ self.decoder_weight + self.decoder_bias\n",
    "\n",
    "        reconstruction_l2_loss = F.mse_loss(x, decoded)\n",
    "\n",
    "        # every row in the tall decoder matrix\n",
    "        # is the \"sum\" of the total influence of a feature on the output\n",
    "        # the l2 norm of that row is the \"influence\" of that feature on that output\n",
    "        # calculate that, store as row\n",
    "        decoder_l2 = torch.linalg.norm(self.decoder_weight, dim=-1)\n",
    "        # the feature activation is the sparse activation * it's influence on output\n",
    "        feature_activations = (encoded) * decoder_l2\n",
    "        # sum of feature activations\n",
    "        # divide by the batch size * sequence length\n",
    "        # should work if there is no batch dimension\n",
    "        if x.ndim == 3:\n",
    "            batch_dim, sequence_dim, _ = x.shape\n",
    "        elif x.ndim == 2:\n",
    "            batch_dim = 1\n",
    "            sequence_dim, _ = x.shape\n",
    "        elif x.ndim == 1:\n",
    "            batch_dim = 1\n",
    "            sequence_dim = 1\n",
    "        else:\n",
    "            raise ValueError(f\"x has {x.ndim} dimensions, but it should have 1, 2, or 3\")\n",
    "        \n",
    "        sparsity_loss = torch.sum(feature_activations) * self.sparsity_penalty / (batch_dim * sequence_dim * self.sparse_dim)\n",
    "\n",
    "        total_loss = reconstruction_l2_loss + sparsity_loss\n",
    "\n",
    "        return {\"encoded\": encoded, \"decoded\": decoded, 'feature_activations': feature_activations, \"reconstruction_loss\": reconstruction_l2_loss, \"sparsity_loss\": sparsity_loss, \"total_loss\": total_loss}\n",
    "\n",
    "\n",
    "\n",
    "\n",
    "# def test_sparse_autoencoder_sequence_independence():\n",
    "#     sae = SparseAutoEncoder(100, 300)\n",
    "#     input_embedding = torch.randn(2, 100)\n",
    "\n",
    "#     input_embedding_modified = input_embedding.clone()\n",
    "#     # modify the first in the sequence to be zeros\n",
    "#     input_embedding_modified[0, :] = torch.zeros(100)\n",
    "#     original_output = sae.forward(input_embedding)['decoded']\n",
    "#     modified_output = sae.forward(input_embedding_modified)['decoded']\n",
    "\n",
    "#     # make sure the last embedding in the sequence is the same, and the first is different\n",
    "#     assert torch.all(original_output[-1, :] == modified_output[-1, :])\n",
    "#     assert not torch.all(original_output[0, :] == modified_output[0, :])\n",
    "\n",
    "# test_sparse_autoencoder_sequence_independence()\n",
    "\n",
    "# def count_num_params_in_sae(sparse_dim_size):\n",
    "#     sae = SparseAutoEncoder(C, sparse_dim_size)\n",
    "#     num_params = sum(p.numel() for p in sae.parameters())\n",
    "#     return num_params\n",
    "\n",
    "# print(\"number of parameters:\", count_num_params_in_sae(2**14))\n",
    "# print(2**14)\n",
    "\n",
    "# def reconstruction_training_run(embedding_size, sparse_dim_size, iters, eval_frequency):\n",
    "#     def generate_tensor():\n",
    "#         return torch.randn(embedding_size)\n",
    "    \n",
    "#     sae = SparseAutoEncoder(embedding_size, sparse_dim_size)\n",
    "    \n",
    "#     optimizer = torch.optim.Adam(sae.parameters(), lr=0.0005)\n",
    "    \n",
    "#     for i in range(iters):\n",
    "#         optimizer.zero_grad()\n",
    "#         input_tensor = generate_tensor()\n",
    "#         output = sae.forward(input_tensor)\n",
    "#         loss = output['total_loss']\n",
    "#         loss.backward()\n",
    "        \n",
    "#         # Clip the gradient norm to 1\n",
    "#         torch.nn.utils.clip_grad_norm_(sae.parameters(), max_norm=1)\n",
    "        \n",
    "#         optimizer.step()\n",
    "        \n",
    "#         if i % eval_frequency == 0:\n",
    "#             avg_loss = 0\n",
    "#             num_samples = 100  # Number of samples to average over\n",
    "#             for _ in range(num_samples):\n",
    "#                 input_tensor = generate_tensor()\n",
    "#                 output = sae.forward(input_tensor)\n",
    "#                 avg_loss += output['total_loss'].item()\n",
    "#             avg_loss /= num_samples\n",
    "#             print(f\"Iteration {i}, Average Total Loss: {avg_loss}\")\n",
    "#     return sae\n",
    "\n",
    "# reconstruction_training_run(C, 2**14, 10_000, 500)\n",
    "\n",
    "\n",
    "\n"
   ]
  },
  {
   "cell_type": "code",
   "execution_count": 48,
   "metadata": {},
   "outputs": [],
   "source": [
    "sae = SparseAutoEncoder(C, 2**14)"
   ]
  },
  {
   "cell_type": "code",
   "execution_count": 49,
   "metadata": {},
   "outputs": [
    {
     "data": {
      "text/plain": [
       "262144"
      ]
     },
     "execution_count": 49,
     "metadata": {},
     "output_type": "execute_result"
    }
   ],
   "source": [
    "2**18"
   ]
  },
  {
   "cell_type": "code",
   "execution_count": 50,
   "metadata": {},
   "outputs": [],
   "source": [
    "# load the model weights from the disk\n",
    "sae.load_state_dict(torch.load('sae_large_model_weights.pth', map_location='cuda'))\n",
    "\n",
    "# set the model to frozen weights\n",
    "sae.eval()\n",
    "\n",
    "for param in sae.parameters():\n",
    "    param.requires_grad = False"
   ]
  },
  {
   "cell_type": "code",
   "execution_count": 51,
   "metadata": {},
   "outputs": [
    {
     "data": {
      "image/png": "[encoded data removed]",
      "text/plain": [
       "<Figure size 2000x600 with 2 Axes>"
      ]
     },
     "metadata": {},
     "output_type": "display_data"
    },
    {
     "data": {
      "text/plain": [
       "<Figure size 2000x600 with 0 Axes>"
      ]
     },
     "metadata": {},
     "output_type": "display_data"
    },
    {
     "name": "stdout",
     "output_type": "stream",
     "text": [
      "Number of overlapped top k features: 3\n",
      "Number of active features for String 1: 24\n",
      "Number of active features for String 2: 31\n"
     ]
    }
   ],
   "source": [
    "\n",
    "def process_input_string(input_string):\n",
    "    embedding = model.get_embedding(input_string)\n",
    "\n",
    "\n",
    "    sae_output = sae(embedding)\n",
    "    encoded = sae_output['encoded']\n",
    "    decoded = sae_output['decoded']\n",
    "    feature_activations = sae_output['feature_activations']\n",
    "    \n",
    "    return encoded, decoded, feature_activations\n",
    "\n",
    "\n",
    "string1 = \"Cookies are yummy. They taste good.\"\n",
    "string2 = \"Cake tastes good. It is delicious\"\n",
    "\n",
    "encoded1, decoded1, feature_activations1 = process_input_string(string1)\n",
    "encoded2, decoded2, feature_activations2 = process_input_string(string2)\n",
    "\n",
    "import matplotlib.pyplot as plt\n",
    "\n",
    "plt.figure(figsize=(20, 6))\n",
    "\n",
    "plt.subplot(1, 2, 1)\n",
    "plt.plot(feature_activations1.cpu().detach().numpy())\n",
    "plt.xlabel('Index')\n",
    "plt.ylabel('Value')\n",
    "plt.title('Feature Activations for String 1')\n",
    "\n",
    "plt.subplot(1, 2, 2)\n",
    "plt.plot(feature_activations2.cpu().detach().numpy())\n",
    "plt.xlabel('Index')\n",
    "plt.ylabel('Value')\n",
    "plt.title('Feature Activations for String 2')\n",
    "\n",
    "plt.show()\n",
    "\n",
    "plt.figure(figsize=(20, 6))\n",
    "\n",
    "# plt.subplot(1, 2, 1)\n",
    "# plt.plot(normalized_embedding1.cpu().detach().numpy())\n",
    "# plt.xlabel('Index')\n",
    "# plt.ylabel('Value')\n",
    "# plt.title('Normalized Embedding for String 1')\n",
    "\n",
    "# plt.subplot(1, 2, 2)\n",
    "# plt.plot(normalized_embedding2.cpu().detach().numpy())\n",
    "# plt.xlabel('Index')\n",
    "# plt.ylabel('Value')\n",
    "# plt.title('Normalized Embedding for String 2')\n",
    "\n",
    "plt.show()\n",
    "\n",
    "\n",
    "# get the top 50 features for each string\n",
    "import torch\n",
    "\n",
    "# Get the indexes of the top 50 features for each string\n",
    "k = 20\n",
    "top_k_features1 = torch.topk(feature_activations1, k).indices.cpu().detach().numpy()\n",
    "top_k_features2 = torch.topk(feature_activations2, k).indices.cpu().detach().numpy()\n",
    "\n",
    "# print(\"Top k features for String 1:\", top_k_features1)\n",
    "# print(\"Top k features for String 2:\", top_k_features2)\n",
    "\n",
    "# Find the intersection of the top k features for both strings\n",
    "overlapped_features = set(top_k_features1).intersection(set(top_k_features2))\n",
    "\n",
    "# Get the number of overlapped features\n",
    "num_overlapped_features = len(overlapped_features)\n",
    "\n",
    "print(\"Number of overlapped top k features:\", num_overlapped_features)\n",
    "\n",
    "# dot product of encoded1, encoded1\n",
    "\n",
    "# normalize both encoded to have l2 norm of 1\n",
    "\n",
    "# Print the number of active (nonzero) features for each string\n",
    "num_active_features1 = torch.count_nonzero(feature_activations1).item()\n",
    "num_active_features2 = torch.count_nonzero(feature_activations2).item()\n",
    "\n",
    "print(\"Number of active features for String 1:\", num_active_features1)\n",
    "print(\"Number of active features for String 2:\", num_active_features2)\n",
    "\n",
    "\n"
   ]
  },
  {
   "cell_type": "code",
   "execution_count": 52,
   "metadata": {},
   "outputs": [
    {
     "name": "stdout",
     "output_type": "stream",
     "text": [
      "Cosine Similarity Original: 0.7773996591567993\n",
      "Cosine Similarity Encoded: 0.7823310494422913\n"
     ]
    }
   ],
   "source": [
    "def process_input_string(input_string):\n",
    "    embedding = model.get_embedding(input_string)\n",
    "\n",
    "    original = embedding\n",
    "    sae_output = sae(embedding)\n",
    "    encoded = sae_output['encoded']\n",
    "    decoded = sae_output['decoded']\n",
    "    feature_activations = sae_output['feature_activations']\n",
    "    \n",
    "    return original, encoded, decoded, feature_activations\n",
    "\n",
    "string1 = \"Lily climbed a tree.\"\n",
    "string2 = \"The dog was sad because it couldn't find his owner.\"\n",
    "\n",
    "original1, encoded1, decoded1, feature_activations1 = process_input_string(string1)\n",
    "original2, encoded2, decoded2, feature_activations2 = process_input_string(string2)\n",
    "\n",
    "# Compute cosine similarity\n",
    "cos_sim_original = F.cosine_similarity(original1.unsqueeze(0), original2.unsqueeze(0))\n",
    "cos_sim_encoded = F.cosine_similarity(encoded1.unsqueeze(0), encoded2.unsqueeze(0))\n",
    "\n",
    "print(\"Cosine Similarity Original:\", cos_sim_original.item())\n",
    "print(\"Cosine Similarity Encoded:\", cos_sim_encoded.item())"
   ]
  },
  {
   "cell_type": "code",
   "execution_count": null,
   "metadata": {},
   "outputs": [],
   "source": []
  },
  {
   "cell_type": "markdown",
   "metadata": {},
   "source": [
    "# Evaluating Model $R^2$ and Percentage of features activated"
   ]
  },
  {
   "cell_type": "code",
   "execution_count": 53,
   "metadata": {},
   "outputs": [
    {
     "name": "stdout",
     "output_type": "stream",
     "text": [
      "tensor([0.0000, 0.9200, 0.9200, 1.0000], device='cuda:0')\n"
     ]
    }
   ],
   "source": [
    "\n",
    "a = torch.tensor([[1.25,2,3,4], # predicted example 1\n",
    "                  [1.25,2.4,3.4,4.5]], dtype=torch.float32) # predicted example 2\n",
    "\n",
    "b = torch.tensor([[1,   2,   3,   4  ], # actual example 1\n",
    "                  [1.5, 2.5, 3.5, 4.5]], dtype=torch.float32) # actual example 2\n",
    "\n",
    "def r2_per_channel(predicted, actual):\n",
    "    channel_means = torch.mean(actual, dim=-2)\n",
    "    avg_squared_error_per_channel = torch.mean((actual - channel_means)**2, dim=-2)\n",
    "    avg_squared_error_predicted = torch.mean((predicted - actual)**2, dim=-2)\n",
    "    return 1 - avg_squared_error_predicted / avg_squared_error_per_channel\n",
    "\n",
    "print(r2_per_channel(a, b))"
   ]
  },
  {
   "cell_type": "code",
   "execution_count": 65,
   "metadata": {},
   "outputs": [
    {
     "name": "stdout",
     "output_type": "stream",
     "text": [
      "R^2 Score: tensor(0.7698, device='cuda:0')\n"
     ]
    },
    {
     "ename": "",
     "evalue": "",
     "output_type": "error",
     "traceback": [
      "\u001b[1;31mThe Kernel crashed while executing code in the current cell or a previous cell. \n",
      "\u001b[1;31mPlease review the code in the cell(s) to identify a possible cause of the failure. \n",
      "\u001b[1;31mClick <a href='https://aka.ms/vscodeJupyterKernelCrash'>here</a> for more info. \n",
      "\u001b[1;31mView Jupyter <a href='command:jupyter.viewOutput'>log</a> for further details."
     ]
    }
   ],
   "source": [
    "model_embedding_layer = 6\n",
    "\n",
    "data = torch.load('tiny-stories-train.pt', map_location='cuda')\n",
    "\n",
    "\n",
    "# torch.manual_seed(1337)\n",
    "\n",
    "def get_batch(split):\n",
    "    data = train_data if split == 'train' else val_data\n",
    "    ix = torch.randint(0, data.size(0) - T, (B,)) # 4 random locations we can sample from\n",
    "    x = torch.stack([data[i:i+T] for i in ix]) # random sequences\n",
    "    y = torch.stack([data[i+1:i+T+1] for i in ix]) # next character for each random sequence\n",
    "\n",
    "    return x, y\n",
    "\n",
    "\n",
    "# Assuming the rest of your code is unchanged and necessary imports and model definitions are already done\n",
    "\n",
    "def calculate_r2(xb, yb, model, sae):\n",
    "    tokens = xb\n",
    "    embedding = model.forward(tokens, return_residuals=model_embedding_layer)\n",
    "    decoded = sae(embedding)['decoded']\n",
    "    r2 = r2_per_channel(predicted=decoded.view(-1, C), actual=embedding.view(-1, C))\n",
    "    return r2.mean()\n",
    "\n",
    "# Example usage\n",
    "xb, yb = get_batch('train')  # Get a batch of data\n",
    "r2_score = calculate_r2(xb, yb, model, sae)\n",
    "print(\"R^2 Score:\", r2_score)"
   ]
  },
  {
   "cell_type": "code",
   "execution_count": 55,
   "metadata": {},
   "outputs": [
    {
     "data": {
      "text/plain": [
       "8"
      ]
     },
     "execution_count": 55,
     "metadata": {},
     "output_type": "execute_result"
    }
   ],
   "source": [
    "\n",
    "xb, yb = get_batch('train')\n",
    "xb.shape[0]"
   ]
  },
  {
   "cell_type": "code",
   "execution_count": 56,
   "metadata": {},
   "outputs": [
    {
     "data": {
      "image/png": "[encoded data removed]",
      "text/plain": [
       "<Figure size 1000x600 with 1 Axes>"
      ]
     },
     "metadata": {},
     "output_type": "display_data"
    }
   ],
   "source": [
    "xb, yb = get_batch('train')\n",
    "tokens = xb\n",
    "embedding = model.forward(tokens, return_residuals=model_embedding_layer).view(-1, C)\n",
    "sae_activations = sae(embedding)['feature_activations']\n",
    "\n",
    "nonzero_counts = (sae_activations != 0)\n",
    "features_active_per_token = nonzero_counts.sum(dim=1)\n",
    "\n",
    "\n",
    "import matplotlib.pyplot as plt\n",
    "\n",
    "# Plot histogram of random_counts\n",
    "plt.figure(figsize=(10, 6))\n",
    "plt.hist(features_active_per_token.cpu().detach().numpy(), bins=30, edgecolor='black')\n",
    "plt.title('Histogram Number of Features Active')\n",
    "plt.xlabel('Count')\n",
    "plt.ylabel('Frequency')\n",
    "plt.show()\n"
   ]
  },
  {
   "cell_type": "markdown",
   "metadata": {},
   "source": [
    "# Sanity Check"
   ]
  },
  {
   "cell_type": "code",
   "execution_count": 57,
   "metadata": {},
   "outputs": [
    {
     "name": "stdout",
     "output_type": "stream",
     "text": [
      "text\n",
      "\"One day, a little girl named Lily found a needle in her room. She knew it was difficult to play with it because it was sharp. Lily wanted to share the needle with her mom, so she could sew a button on her shirt.\n",
      "\n",
      "Lily went to her mom and said, \"\"Mom, I found this needle. Can you share it with \n"
     ]
    },
    {
     "data": {
      "image/png": "[encoded data removed]",
      "text/plain": [
       "<Figure size 1000x600 with 1 Axes>"
      ]
     },
     "metadata": {},
     "output_type": "display_data"
    },
    {
     "name": "stdout",
     "output_type": "stream",
     "text": [
      "tensor(19, device='cuda:0')\n"
     ]
    }
   ],
   "source": [
    "start_idx = 0\n",
    "characters = 300\n",
    "\n",
    "text = text[start_idx:start_idx+characters]\n",
    "print(text)\n",
    "\n",
    "embedding =  model.get_embedding(text)\n",
    "\n",
    "sae_output = sae(embedding)\n",
    "\n",
    "features = sae_output['feature_activations']\n",
    "\n",
    "import matplotlib.pyplot as plt\n",
    "\n",
    "# Plot the feature activations\n",
    "plt.figure(figsize=(10, 6))\n",
    "plt.plot(features.cpu().detach().numpy().flatten())\n",
    "plt.title('Feature Activations')\n",
    "plt.xlabel('Index')\n",
    "plt.ylabel('Value')\n",
    "plt.show()\n",
    "\n",
    "nonzero_counts = (features != 0.0)\n",
    "print(nonzero_counts.sum())\n"
   ]
  }
 ],
 "metadata": {
  "kernelspec": {
   "display_name": "ai",
   "language": "python",
   "name": "python3"
  },
  "language_info": {
   "codemirror_mode": {
    "name": "ipython",
    "version": 3
   },
   "file_extension": ".py",
   "mimetype": "text/x-python",
   "name": "python",
   "nbconvert_exporter": "python",
   "pygments_lexer": "ipython3",
   "version": "3.12.2"
  }
 },
 "nbformat": 4,
 "nbformat_minor": 2
}
